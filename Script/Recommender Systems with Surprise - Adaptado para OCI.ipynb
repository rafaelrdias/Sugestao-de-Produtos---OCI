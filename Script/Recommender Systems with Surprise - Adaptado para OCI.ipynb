{
 "cells": [
  {
   "cell_type": "markdown",
   "metadata": {},
   "source": [
    "# Construindo um Modelo de Recomendação de produtos"
   ]
  },
  {
   "cell_type": "markdown",
   "metadata": {},
   "source": [
    "## Atualizar bibliotecas Oracle: ADS e OCI, e instalar a biblioteca open source Surprise"
   ]
  },
  {
   "cell_type": "code",
   "execution_count": null,
   "metadata": {},
   "outputs": [],
   "source": [
    "!pip install -U oracle-ads"
   ]
  },
  {
   "cell_type": "code",
   "execution_count": null,
   "metadata": {},
   "outputs": [],
   "source": [
    "!pip install -U oci"
   ]
  },
  {
   "cell_type": "code",
   "execution_count": null,
   "metadata": {},
   "outputs": [],
   "source": [
    "!pip install -U surprise"
   ]
  },
  {
   "cell_type": "markdown",
   "metadata": {},
   "source": [
    "## Importando Bibliotecas e Features"
   ]
  },
  {
   "cell_type": "code",
   "execution_count": 1,
   "metadata": {},
   "outputs": [],
   "source": [
    "import numpy as np\n",
    "import pandas as pd\n",
    "import matplotlib.pyplot as plt\n",
    "import oci\n",
    "import logging\n",
    "import difflib\n",
    "import random\n",
    "import tempfile\n",
    "import ads\n",
    "\n",
    "from ads.model.generic_model import GenericModel\n",
    "from ads.common.auth import default_signer\n",
    "from surprise import Dataset\n",
    "from surprise import Reader\n",
    "from surprise import SVD\n",
    "from surprise.model_selection import cross_validate\n",
    "from ads.common.oci_logging import OCILogGroup\n",
    "from oci.data_science.models import ModelConfigurationDetails, InstanceConfiguration, \\\n",
    "                                    FixedSizeScalingPolicy, CategoryLogDetails, LogDetails, \\\n",
    "                                    SingleModelDeploymentConfigurationDetails, CreateModelDeploymentDetails\n",
    "\n",
    "%matplotlib inline"
   ]
  },
  {
   "cell_type": "markdown",
   "metadata": {},
   "source": [
    "## Lendo os Dados Do GitHub"
   ]
  },
  {
   "cell_type": "code",
   "execution_count": 31,
   "metadata": {},
   "outputs": [
    {
     "data": {
      "text/html": [
       "<div>\n",
       "<style scoped>\n",
       "    .dataframe tbody tr th:only-of-type {\n",
       "        vertical-align: middle;\n",
       "    }\n",
       "\n",
       "    .dataframe tbody tr th {\n",
       "        vertical-align: top;\n",
       "    }\n",
       "\n",
       "    .dataframe thead th {\n",
       "        text-align: right;\n",
       "    }\n",
       "</style>\n",
       "<table border=\"1\" class=\"dataframe\">\n",
       "  <thead>\n",
       "    <tr style=\"text-align: right;\">\n",
       "      <th></th>\n",
       "      <th>id</th>\n",
       "      <th>book_id</th>\n",
       "      <th>best_book_id</th>\n",
       "      <th>work_id</th>\n",
       "      <th>books_count</th>\n",
       "      <th>isbn</th>\n",
       "      <th>isbn13</th>\n",
       "      <th>authors</th>\n",
       "      <th>original_publication_year</th>\n",
       "      <th>original_title</th>\n",
       "      <th>...</th>\n",
       "      <th>ratings_count</th>\n",
       "      <th>work_ratings_count</th>\n",
       "      <th>work_text_reviews_count</th>\n",
       "      <th>ratings_1</th>\n",
       "      <th>ratings_2</th>\n",
       "      <th>ratings_3</th>\n",
       "      <th>ratings_4</th>\n",
       "      <th>ratings_5</th>\n",
       "      <th>image_url</th>\n",
       "      <th>small_image_url</th>\n",
       "    </tr>\n",
       "  </thead>\n",
       "  <tbody>\n",
       "    <tr>\n",
       "      <th>0</th>\n",
       "      <td>1</td>\n",
       "      <td>2767052</td>\n",
       "      <td>2767052</td>\n",
       "      <td>2792775</td>\n",
       "      <td>272</td>\n",
       "      <td>439023483</td>\n",
       "      <td>9.780439e+12</td>\n",
       "      <td>Suzanne Collins</td>\n",
       "      <td>2008.0</td>\n",
       "      <td>The Hunger Games</td>\n",
       "      <td>...</td>\n",
       "      <td>4780653</td>\n",
       "      <td>4942365</td>\n",
       "      <td>155254</td>\n",
       "      <td>66715</td>\n",
       "      <td>127936</td>\n",
       "      <td>560092</td>\n",
       "      <td>1481305</td>\n",
       "      <td>2706317</td>\n",
       "      <td>https://images.gr-assets.com/books/1447303603m/2767052.jpg</td>\n",
       "      <td>https://images.gr-assets.com/books/1447303603s/2767052.jpg</td>\n",
       "    </tr>\n",
       "    <tr>\n",
       "      <th>1</th>\n",
       "      <td>2</td>\n",
       "      <td>3</td>\n",
       "      <td>3</td>\n",
       "      <td>4640799</td>\n",
       "      <td>491</td>\n",
       "      <td>439554934</td>\n",
       "      <td>9.780440e+12</td>\n",
       "      <td>J.K. Rowling, Mary GrandPré</td>\n",
       "      <td>1997.0</td>\n",
       "      <td>Harry Potter and the Philosopher's Stone</td>\n",
       "      <td>...</td>\n",
       "      <td>4602479</td>\n",
       "      <td>4800065</td>\n",
       "      <td>75867</td>\n",
       "      <td>75504</td>\n",
       "      <td>101676</td>\n",
       "      <td>455024</td>\n",
       "      <td>1156318</td>\n",
       "      <td>3011543</td>\n",
       "      <td>https://images.gr-assets.com/books/1474154022m/3.jpg</td>\n",
       "      <td>https://images.gr-assets.com/books/1474154022s/3.jpg</td>\n",
       "    </tr>\n",
       "    <tr>\n",
       "      <th>2</th>\n",
       "      <td>3</td>\n",
       "      <td>41865</td>\n",
       "      <td>41865</td>\n",
       "      <td>3212258</td>\n",
       "      <td>226</td>\n",
       "      <td>316015849</td>\n",
       "      <td>9.780316e+12</td>\n",
       "      <td>Stephenie Meyer</td>\n",
       "      <td>2005.0</td>\n",
       "      <td>Twilight</td>\n",
       "      <td>...</td>\n",
       "      <td>3866839</td>\n",
       "      <td>3916824</td>\n",
       "      <td>95009</td>\n",
       "      <td>456191</td>\n",
       "      <td>436802</td>\n",
       "      <td>793319</td>\n",
       "      <td>875073</td>\n",
       "      <td>1355439</td>\n",
       "      <td>https://images.gr-assets.com/books/1361039443m/41865.jpg</td>\n",
       "      <td>https://images.gr-assets.com/books/1361039443s/41865.jpg</td>\n",
       "    </tr>\n",
       "    <tr>\n",
       "      <th>3</th>\n",
       "      <td>4</td>\n",
       "      <td>2657</td>\n",
       "      <td>2657</td>\n",
       "      <td>3275794</td>\n",
       "      <td>487</td>\n",
       "      <td>61120081</td>\n",
       "      <td>9.780061e+12</td>\n",
       "      <td>Harper Lee</td>\n",
       "      <td>1960.0</td>\n",
       "      <td>To Kill a Mockingbird</td>\n",
       "      <td>...</td>\n",
       "      <td>3198671</td>\n",
       "      <td>3340896</td>\n",
       "      <td>72586</td>\n",
       "      <td>60427</td>\n",
       "      <td>117415</td>\n",
       "      <td>446835</td>\n",
       "      <td>1001952</td>\n",
       "      <td>1714267</td>\n",
       "      <td>https://images.gr-assets.com/books/1361975680m/2657.jpg</td>\n",
       "      <td>https://images.gr-assets.com/books/1361975680s/2657.jpg</td>\n",
       "    </tr>\n",
       "    <tr>\n",
       "      <th>4</th>\n",
       "      <td>5</td>\n",
       "      <td>4671</td>\n",
       "      <td>4671</td>\n",
       "      <td>245494</td>\n",
       "      <td>1356</td>\n",
       "      <td>743273567</td>\n",
       "      <td>9.780743e+12</td>\n",
       "      <td>F. Scott Fitzgerald</td>\n",
       "      <td>1925.0</td>\n",
       "      <td>The Great Gatsby</td>\n",
       "      <td>...</td>\n",
       "      <td>2683664</td>\n",
       "      <td>2773745</td>\n",
       "      <td>51992</td>\n",
       "      <td>86236</td>\n",
       "      <td>197621</td>\n",
       "      <td>606158</td>\n",
       "      <td>936012</td>\n",
       "      <td>947718</td>\n",
       "      <td>https://images.gr-assets.com/books/1490528560m/4671.jpg</td>\n",
       "      <td>https://images.gr-assets.com/books/1490528560s/4671.jpg</td>\n",
       "    </tr>\n",
       "    <tr>\n",
       "      <th>5</th>\n",
       "      <td>6</td>\n",
       "      <td>11870085</td>\n",
       "      <td>11870085</td>\n",
       "      <td>16827462</td>\n",
       "      <td>226</td>\n",
       "      <td>525478817</td>\n",
       "      <td>9.780525e+12</td>\n",
       "      <td>John Green</td>\n",
       "      <td>2012.0</td>\n",
       "      <td>The Fault in Our Stars</td>\n",
       "      <td>...</td>\n",
       "      <td>2346404</td>\n",
       "      <td>2478609</td>\n",
       "      <td>140739</td>\n",
       "      <td>47994</td>\n",
       "      <td>92723</td>\n",
       "      <td>327550</td>\n",
       "      <td>698471</td>\n",
       "      <td>1311871</td>\n",
       "      <td>https://images.gr-assets.com/books/1360206420m/11870085.jpg</td>\n",
       "      <td>https://images.gr-assets.com/books/1360206420s/11870085.jpg</td>\n",
       "    </tr>\n",
       "    <tr>\n",
       "      <th>6</th>\n",
       "      <td>7</td>\n",
       "      <td>5907</td>\n",
       "      <td>5907</td>\n",
       "      <td>1540236</td>\n",
       "      <td>969</td>\n",
       "      <td>618260307</td>\n",
       "      <td>9.780618e+12</td>\n",
       "      <td>J.R.R. Tolkien</td>\n",
       "      <td>1937.0</td>\n",
       "      <td>The Hobbit or There and Back Again</td>\n",
       "      <td>...</td>\n",
       "      <td>2071616</td>\n",
       "      <td>2196809</td>\n",
       "      <td>37653</td>\n",
       "      <td>46023</td>\n",
       "      <td>76784</td>\n",
       "      <td>288649</td>\n",
       "      <td>665635</td>\n",
       "      <td>1119718</td>\n",
       "      <td>https://images.gr-assets.com/books/1372847500m/5907.jpg</td>\n",
       "      <td>https://images.gr-assets.com/books/1372847500s/5907.jpg</td>\n",
       "    </tr>\n",
       "    <tr>\n",
       "      <th>7</th>\n",
       "      <td>8</td>\n",
       "      <td>5107</td>\n",
       "      <td>5107</td>\n",
       "      <td>3036731</td>\n",
       "      <td>360</td>\n",
       "      <td>316769177</td>\n",
       "      <td>9.780317e+12</td>\n",
       "      <td>J.D. Salinger</td>\n",
       "      <td>1951.0</td>\n",
       "      <td>The Catcher in the Rye</td>\n",
       "      <td>...</td>\n",
       "      <td>2044241</td>\n",
       "      <td>2120637</td>\n",
       "      <td>44920</td>\n",
       "      <td>109383</td>\n",
       "      <td>185520</td>\n",
       "      <td>455042</td>\n",
       "      <td>661516</td>\n",
       "      <td>709176</td>\n",
       "      <td>https://images.gr-assets.com/books/1398034300m/5107.jpg</td>\n",
       "      <td>https://images.gr-assets.com/books/1398034300s/5107.jpg</td>\n",
       "    </tr>\n",
       "    <tr>\n",
       "      <th>8</th>\n",
       "      <td>9</td>\n",
       "      <td>960</td>\n",
       "      <td>960</td>\n",
       "      <td>3338963</td>\n",
       "      <td>311</td>\n",
       "      <td>1416524797</td>\n",
       "      <td>9.781417e+12</td>\n",
       "      <td>Dan Brown</td>\n",
       "      <td>2000.0</td>\n",
       "      <td>Angels &amp; Demons</td>\n",
       "      <td>...</td>\n",
       "      <td>2001311</td>\n",
       "      <td>2078754</td>\n",
       "      <td>25112</td>\n",
       "      <td>77841</td>\n",
       "      <td>145740</td>\n",
       "      <td>458429</td>\n",
       "      <td>716569</td>\n",
       "      <td>680175</td>\n",
       "      <td>https://images.gr-assets.com/books/1303390735m/960.jpg</td>\n",
       "      <td>https://images.gr-assets.com/books/1303390735s/960.jpg</td>\n",
       "    </tr>\n",
       "    <tr>\n",
       "      <th>9</th>\n",
       "      <td>10</td>\n",
       "      <td>1885</td>\n",
       "      <td>1885</td>\n",
       "      <td>3060926</td>\n",
       "      <td>3455</td>\n",
       "      <td>679783261</td>\n",
       "      <td>9.780680e+12</td>\n",
       "      <td>Jane Austen</td>\n",
       "      <td>1813.0</td>\n",
       "      <td>Pride and Prejudice</td>\n",
       "      <td>...</td>\n",
       "      <td>2035490</td>\n",
       "      <td>2191465</td>\n",
       "      <td>49152</td>\n",
       "      <td>54700</td>\n",
       "      <td>86485</td>\n",
       "      <td>284852</td>\n",
       "      <td>609755</td>\n",
       "      <td>1155673</td>\n",
       "      <td>https://images.gr-assets.com/books/1320399351m/1885.jpg</td>\n",
       "      <td>https://images.gr-assets.com/books/1320399351s/1885.jpg</td>\n",
       "    </tr>\n",
       "  </tbody>\n",
       "</table>\n",
       "<p>10 rows × 23 columns</p>\n",
       "</div>"
      ],
      "text/plain": [
       "   id   book_id  best_book_id   work_id  books_count        isbn  \\\n",
       "0   1   2767052       2767052   2792775          272   439023483   \n",
       "1   2         3             3   4640799          491   439554934   \n",
       "2   3     41865         41865   3212258          226   316015849   \n",
       "3   4      2657          2657   3275794          487    61120081   \n",
       "4   5      4671          4671    245494         1356   743273567   \n",
       "5   6  11870085      11870085  16827462          226   525478817   \n",
       "6   7      5907          5907   1540236          969   618260307   \n",
       "7   8      5107          5107   3036731          360   316769177   \n",
       "8   9       960           960   3338963          311  1416524797   \n",
       "9  10      1885          1885   3060926         3455   679783261   \n",
       "\n",
       "         isbn13                      authors  original_publication_year  \\\n",
       "0  9.780439e+12              Suzanne Collins                     2008.0   \n",
       "1  9.780440e+12  J.K. Rowling, Mary GrandPré                     1997.0   \n",
       "2  9.780316e+12              Stephenie Meyer                     2005.0   \n",
       "3  9.780061e+12                   Harper Lee                     1960.0   \n",
       "4  9.780743e+12          F. Scott Fitzgerald                     1925.0   \n",
       "5  9.780525e+12                   John Green                     2012.0   \n",
       "6  9.780618e+12               J.R.R. Tolkien                     1937.0   \n",
       "7  9.780317e+12                J.D. Salinger                     1951.0   \n",
       "8  9.781417e+12                    Dan Brown                     2000.0   \n",
       "9  9.780680e+12                  Jane Austen                     1813.0   \n",
       "\n",
       "                             original_title  ... ratings_count  \\\n",
       "0                          The Hunger Games  ...       4780653   \n",
       "1  Harry Potter and the Philosopher's Stone  ...       4602479   \n",
       "2                                  Twilight  ...       3866839   \n",
       "3                     To Kill a Mockingbird  ...       3198671   \n",
       "4                          The Great Gatsby  ...       2683664   \n",
       "5                    The Fault in Our Stars  ...       2346404   \n",
       "6        The Hobbit or There and Back Again  ...       2071616   \n",
       "7                    The Catcher in the Rye  ...       2044241   \n",
       "8                          Angels & Demons   ...       2001311   \n",
       "9                       Pride and Prejudice  ...       2035490   \n",
       "\n",
       "  work_ratings_count  work_text_reviews_count  ratings_1  ratings_2  \\\n",
       "0            4942365                   155254      66715     127936   \n",
       "1            4800065                    75867      75504     101676   \n",
       "2            3916824                    95009     456191     436802   \n",
       "3            3340896                    72586      60427     117415   \n",
       "4            2773745                    51992      86236     197621   \n",
       "5            2478609                   140739      47994      92723   \n",
       "6            2196809                    37653      46023      76784   \n",
       "7            2120637                    44920     109383     185520   \n",
       "8            2078754                    25112      77841     145740   \n",
       "9            2191465                    49152      54700      86485   \n",
       "\n",
       "   ratings_3  ratings_4  ratings_5  \\\n",
       "0     560092    1481305    2706317   \n",
       "1     455024    1156318    3011543   \n",
       "2     793319     875073    1355439   \n",
       "3     446835    1001952    1714267   \n",
       "4     606158     936012     947718   \n",
       "5     327550     698471    1311871   \n",
       "6     288649     665635    1119718   \n",
       "7     455042     661516     709176   \n",
       "8     458429     716569     680175   \n",
       "9     284852     609755    1155673   \n",
       "\n",
       "                                                     image_url  \\\n",
       "0   https://images.gr-assets.com/books/1447303603m/2767052.jpg   \n",
       "1         https://images.gr-assets.com/books/1474154022m/3.jpg   \n",
       "2     https://images.gr-assets.com/books/1361039443m/41865.jpg   \n",
       "3      https://images.gr-assets.com/books/1361975680m/2657.jpg   \n",
       "4      https://images.gr-assets.com/books/1490528560m/4671.jpg   \n",
       "5  https://images.gr-assets.com/books/1360206420m/11870085.jpg   \n",
       "6      https://images.gr-assets.com/books/1372847500m/5907.jpg   \n",
       "7      https://images.gr-assets.com/books/1398034300m/5107.jpg   \n",
       "8       https://images.gr-assets.com/books/1303390735m/960.jpg   \n",
       "9      https://images.gr-assets.com/books/1320399351m/1885.jpg   \n",
       "\n",
       "                                               small_image_url  \n",
       "0   https://images.gr-assets.com/books/1447303603s/2767052.jpg  \n",
       "1         https://images.gr-assets.com/books/1474154022s/3.jpg  \n",
       "2     https://images.gr-assets.com/books/1361039443s/41865.jpg  \n",
       "3      https://images.gr-assets.com/books/1361975680s/2657.jpg  \n",
       "4      https://images.gr-assets.com/books/1490528560s/4671.jpg  \n",
       "5  https://images.gr-assets.com/books/1360206420s/11870085.jpg  \n",
       "6      https://images.gr-assets.com/books/1372847500s/5907.jpg  \n",
       "7      https://images.gr-assets.com/books/1398034300s/5107.jpg  \n",
       "8       https://images.gr-assets.com/books/1303390735s/960.jpg  \n",
       "9      https://images.gr-assets.com/books/1320399351s/1885.jpg  \n",
       "\n",
       "[10 rows x 23 columns]"
      ]
     },
     "execution_count": 31,
     "metadata": {},
     "output_type": "execute_result"
    }
   ],
   "source": [
    "ratings_data = pd.read_csv('https://raw.githubusercontent.com/rafaelrdias/Sugestao-de-Produtos---OCI/main/Files/books.csv')\n",
    "books_metadata = pd.read_csv('https://raw.githubusercontent.com/rafaelrdias/Sugestao-de-Produtos---OCI/main/Files/ratings.csv')\n",
    "ratings_data.head(10)"
   ]
  },
  {
   "cell_type": "code",
   "execution_count": 32,
   "metadata": {},
   "outputs": [
    {
     "name": "stdout",
     "output_type": "stream",
     "text": [
      "<class 'pandas.core.frame.DataFrame'>\n",
      "RangeIndex: 10000 entries, 0 to 9999\n",
      "Data columns (total 23 columns):\n",
      " #   Column                     Non-Null Count  Dtype  \n",
      "---  ------                     --------------  -----  \n",
      " 0   id                         10000 non-null  int64  \n",
      " 1   book_id                    10000 non-null  int64  \n",
      " 2   best_book_id               10000 non-null  int64  \n",
      " 3   work_id                    10000 non-null  int64  \n",
      " 4   books_count                10000 non-null  int64  \n",
      " 5   isbn                       9300 non-null   object \n",
      " 6   isbn13                     9415 non-null   float64\n",
      " 7   authors                    10000 non-null  object \n",
      " 8   original_publication_year  9979 non-null   float64\n",
      " 9   original_title             9415 non-null   object \n",
      " 10  title                      10000 non-null  object \n",
      " 11  language_code              8916 non-null   object \n",
      " 12  average_rating             10000 non-null  float64\n",
      " 13  ratings_count              10000 non-null  int64  \n",
      " 14  work_ratings_count         10000 non-null  int64  \n",
      " 15  work_text_reviews_count    10000 non-null  int64  \n",
      " 16  ratings_1                  10000 non-null  int64  \n",
      " 17  ratings_2                  10000 non-null  int64  \n",
      " 18  ratings_3                  10000 non-null  int64  \n",
      " 19  ratings_4                  10000 non-null  int64  \n",
      " 20  ratings_5                  10000 non-null  int64  \n",
      " 21  image_url                  10000 non-null  object \n",
      " 22  small_image_url            10000 non-null  object \n",
      "dtypes: float64(3), int64(13), object(7)\n",
      "memory usage: 1.8+ MB\n"
     ]
    }
   ],
   "source": [
    "ratings_data.info()"
   ]
  },
  {
   "cell_type": "code",
   "execution_count": 4,
   "metadata": {},
   "outputs": [
    {
     "name": "stdout",
     "output_type": "stream",
     "text": [
      "<class 'pandas.core.frame.DataFrame'>\n",
      "RangeIndex: 10000 entries, 0 to 9999\n",
      "Data columns (total 23 columns):\n",
      " #   Column                     Non-Null Count  Dtype  \n",
      "---  ------                     --------------  -----  \n",
      " 0   id                         10000 non-null  int64  \n",
      " 1   book_id                    10000 non-null  int64  \n",
      " 2   best_book_id               10000 non-null  int64  \n",
      " 3   work_id                    10000 non-null  int64  \n",
      " 4   books_count                10000 non-null  int64  \n",
      " 5   isbn                       9300 non-null   object \n",
      " 6   isbn13                     9415 non-null   float64\n",
      " 7   authors                    10000 non-null  object \n",
      " 8   original_publication_year  9979 non-null   float64\n",
      " 9   original_title             9415 non-null   object \n",
      " 10  title                      10000 non-null  object \n",
      " 11  language_code              8916 non-null   object \n",
      " 12  average_rating             10000 non-null  float64\n",
      " 13  ratings_count              10000 non-null  int64  \n",
      " 14  work_ratings_count         10000 non-null  int64  \n",
      " 15  work_text_reviews_count    10000 non-null  int64  \n",
      " 16  ratings_1                  10000 non-null  int64  \n",
      " 17  ratings_2                  10000 non-null  int64  \n",
      " 18  ratings_3                  10000 non-null  int64  \n",
      " 19  ratings_4                  10000 non-null  int64  \n",
      " 20  ratings_5                  10000 non-null  int64  \n",
      " 21  image_url                  10000 non-null  object \n",
      " 22  small_image_url            10000 non-null  object \n",
      "dtypes: float64(3), int64(13), object(7)\n",
      "memory usage: 1.8+ MB\n"
     ]
    }
   ],
   "source": [
    "books_metadata.info()"
   ]
  },
  {
   "cell_type": "markdown",
   "metadata": {},
   "source": [
    "## Criando o Dataset especificamente para o Surprise"
   ]
  },
  {
   "cell_type": "code",
   "execution_count": 5,
   "metadata": {},
   "outputs": [],
   "source": [
    "reader = Reader(rating_scale=(1, 5))\n",
    "data = Dataset.load_from_df(ratings_data[['user_id', 'book_id', 'rating']], reader)"
   ]
  },
  {
   "cell_type": "markdown",
   "metadata": {},
   "source": [
    "## Cross-Validating uma Amostra para SVD Model"
   ]
  },
  {
   "cell_type": "code",
   "execution_count": 6,
   "metadata": {},
   "outputs": [
    {
     "name": "stdout",
     "output_type": "stream",
     "text": [
      "Processing epoch 0\n",
      "Processing epoch 1\n",
      "Processing epoch 2\n",
      "Processing epoch 3\n",
      "Processing epoch 4\n",
      "Processing epoch 5\n",
      "Processing epoch 6\n",
      "Processing epoch 7\n",
      "Processing epoch 8\n",
      "Processing epoch 9\n",
      "Processing epoch 0\n",
      "Processing epoch 1\n",
      "Processing epoch 2\n",
      "Processing epoch 3\n",
      "Processing epoch 4\n",
      "Processing epoch 5\n",
      "Processing epoch 6\n",
      "Processing epoch 7\n",
      "Processing epoch 8\n",
      "Processing epoch 9\n",
      "Processing epoch 0\n",
      "Processing epoch 1\n",
      "Processing epoch 2\n",
      "Processing epoch 3\n",
      "Processing epoch 4\n",
      "Processing epoch 5\n",
      "Processing epoch 6\n",
      "Processing epoch 7\n",
      "Processing epoch 8\n",
      "Processing epoch 9\n",
      "Evaluating RMSE, MAE of algorithm SVD on 3 split(s).\n",
      "\n",
      "                  Fold 1  Fold 2  Fold 3  Mean    Std     \n",
      "RMSE (testset)    0.8568  0.8571  0.8551  0.8563  0.0009  \n",
      "MAE (testset)     0.6757  0.6756  0.6748  0.6754  0.0004  \n",
      "Fit time          4.58    4.97    4.95    4.84    0.18    \n",
      "Test time         2.84    2.83    3.00    2.89    0.08    \n"
     ]
    },
    {
     "data": {
      "text/plain": [
       "{'test_rmse': array([0.85682853, 0.85711811, 0.85509447]),\n",
       " 'test_mae': array([0.67571649, 0.67559642, 0.67478984]),\n",
       " 'fit_time': (4.58173942565918, 4.974778890609741, 4.950160026550293),\n",
       " 'test_time': (2.835078716278076, 2.8303072452545166, 2.997844934463501)}"
      ]
     },
     "execution_count": 6,
     "metadata": {},
     "output_type": "execute_result"
    }
   ],
   "source": [
    "svd = SVD(verbose=True, n_epochs=10)\n",
    "cross_validate(svd, data, measures=['RMSE', 'MAE'], cv=3, verbose=True)"
   ]
  },
  {
   "cell_type": "code",
   "execution_count": 7,
   "metadata": {},
   "outputs": [
    {
     "name": "stdout",
     "output_type": "stream",
     "text": [
      "Processing epoch 0\n",
      "Processing epoch 1\n",
      "Processing epoch 2\n",
      "Processing epoch 3\n",
      "Processing epoch 4\n",
      "Processing epoch 5\n",
      "Processing epoch 6\n",
      "Processing epoch 7\n",
      "Processing epoch 8\n",
      "Processing epoch 9\n"
     ]
    },
    {
     "data": {
      "text/plain": [
       "<surprise.prediction_algorithms.matrix_factorization.SVD at 0x7fb66ab52e50>"
      ]
     },
     "execution_count": 7,
     "metadata": {},
     "output_type": "execute_result"
    }
   ],
   "source": [
    "trainset = data.build_full_trainset()\n",
    "svd.fit(trainset)"
   ]
  },
  {
   "cell_type": "markdown",
   "metadata": {},
   "source": [
    "## Gerando Previsões de Avaliação por Usuário para Livros"
   ]
  },
  {
   "cell_type": "code",
   "execution_count": 8,
   "metadata": {},
   "outputs": [
    {
     "data": {
      "text/plain": [
       "Prediction(uid=10, iid=100, r_ui=None, est=4.12533266900806, details={'was_impossible': False})"
      ]
     },
     "execution_count": 8,
     "metadata": {},
     "output_type": "execute_result"
    }
   ],
   "source": [
    "svd.predict(uid=10, iid=100)"
   ]
  },
  {
   "cell_type": "markdown",
   "metadata": {},
   "source": [
    "## Preparando Dados Para Colocar Modelo Em Produção"
   ]
  },
  {
   "cell_type": "code",
   "execution_count": 11,
   "metadata": {},
   "outputs": [],
   "source": [
    "trainset_uids = list(trainset.all_items())\n",
    "uid_converter = lambda x: trainset.to_raw_uid(x)\n",
    "trainset_raw_uids = list(map(uid_converter, trainset_uids))\n",
    "trainset_raw_uids = pd.DataFrame(trainset_raw_uids)\n",
    "trainset_raw_uids.rename(columns = {0 : 'uid'}, inplace = True)"
   ]
  },
  {
   "cell_type": "code",
   "execution_count": 14,
   "metadata": {},
   "outputs": [],
   "source": [
    "trainset_iids = list(trainset.all_items())\n",
    "iid_converter = lambda x: trainset.to_raw_iid(x)\n",
    "trainset_raw_iids = list(map(iid_converter, trainset_iids))\n",
    "trainset_raw_iids = pd.DataFrame(trainset_raw_iids)\n",
    "trainset_raw_iids.rename(columns = {0 : 'iid'}, inplace = True)"
   ]
  },
  {
   "cell_type": "code",
   "execution_count": 17,
   "metadata": {},
   "outputs": [],
   "source": [
    "trainset_final = pd.concat([trainset_raw_uids, trainset_raw_iids], axis=1, join = 'inner')"
   ]
  },
  {
   "cell_type": "markdown",
   "metadata": {},
   "source": [
    "## Autenticação Necessária para Data Science Acessar Recursos na OCI"
   ]
  },
  {
   "cell_type": "code",
   "execution_count": 36,
   "metadata": {},
   "outputs": [],
   "source": [
    "ads.set_auth(auth=\"resource_principal\")"
   ]
  },
  {
   "cell_type": "markdown",
   "metadata": {},
   "source": [
    "## Preparando Configurações Necessárias para Deploy"
   ]
  },
  {
   "cell_type": "code",
   "execution_count": 37,
   "metadata": {},
   "outputs": [],
   "source": [
    "svd_model = GenericModel(estimator=svd,\n",
    "                            artifact_dir=\"artefato_modelo\",\n",
    "                            model_save_serializer=\"cloudpickle\",\n",
    "                            model_input_serializer=\"json\"\n",
    "                            )"
   ]
  },
  {
   "cell_type": "code",
   "execution_count": 38,
   "metadata": {},
   "outputs": [
    {
     "data": {
      "text/plain": [
       "algorithm: null\n",
       "artifact_dir:\n",
       "  /home/datascience/artefato_modelo:\n",
       "  - - model.pkl\n",
       "    - test_json_output.json\n",
       "    - score.py\n",
       "    - output_schema.json\n",
       "    - input_schema.json\n",
       "    - runtime.yaml\n",
       "    - .model-ignore\n",
       "framework: null\n",
       "model_deployment_id: null\n",
       "model_id: null"
      ]
     },
     "execution_count": 38,
     "metadata": {},
     "output_type": "execute_result"
    }
   ],
   "source": [
    "svd_model.prepare(\n",
    "    inference_conda_env=\"oci://<nome-do-bucket>@<namespace-do-bucket>/conda_environments/cpu/General Machine Learning for CPUs on Python 3.8/1.0/generalml_p38_cpu_v1\",\n",
    "    inference_python_version=\"3.8\",\n",
    "    X_sample=trainset_final,\n",
    "    y_sample=trainset_final,\n",
    "    force_overwrite = True\n",
    ")"
   ]
  },
  {
   "cell_type": "markdown",
   "metadata": {},
   "source": [
    "## Validação das Configurações do Modelo Antes do Deploy"
   ]
  },
  {
   "cell_type": "code",
   "execution_count": 39,
   "metadata": {},
   "outputs": [
    {
     "name": "stdout",
     "output_type": "stream",
     "text": [
      "['model.pkl', 'test_json_output.json', 'score.py', 'output_schema.json', 'input_schema.json', 'runtime.yaml', '.model-ignore']\n"
     ]
    },
    {
     "data": {
      "text/html": [
       "<div>\n",
       "<style scoped>\n",
       "    .dataframe tbody tr th:only-of-type {\n",
       "        vertical-align: middle;\n",
       "    }\n",
       "\n",
       "    .dataframe tbody tr th {\n",
       "        vertical-align: top;\n",
       "    }\n",
       "\n",
       "    .dataframe thead th {\n",
       "        text-align: right;\n",
       "    }\n",
       "</style>\n",
       "<table border=\"1\" class=\"dataframe\">\n",
       "  <thead>\n",
       "    <tr style=\"text-align: right;\">\n",
       "      <th></th>\n",
       "      <th>Test key</th>\n",
       "      <th>Test name</th>\n",
       "      <th>Result</th>\n",
       "      <th>Message</th>\n",
       "    </tr>\n",
       "  </thead>\n",
       "  <tbody>\n",
       "    <tr>\n",
       "      <th>0</th>\n",
       "      <td>runtime_env_path</td>\n",
       "      <td>Check that field MODEL_DEPLOYMENT.INFERENCE_ENV_PATH is set</td>\n",
       "      <td>Passed</td>\n",
       "      <td></td>\n",
       "    </tr>\n",
       "    <tr>\n",
       "      <th>1</th>\n",
       "      <td>runtime_env_python</td>\n",
       "      <td>Check that field MODEL_DEPLOYMENT.INFERENCE_PYTHON_VERSION is set to a value of 3.6 or higher</td>\n",
       "      <td>Passed</td>\n",
       "      <td></td>\n",
       "    </tr>\n",
       "    <tr>\n",
       "      <th>2</th>\n",
       "      <td>runtime_path_exist</td>\n",
       "      <td>Check that the file path in MODEL_DEPLOYMENT.INFERENCE_ENV_PATH is correct.</td>\n",
       "      <td>Passed</td>\n",
       "      <td></td>\n",
       "    </tr>\n",
       "    <tr>\n",
       "      <th>3</th>\n",
       "      <td>runtime_version</td>\n",
       "      <td>Check that field MODEL_ARTIFACT_VERSION is set to 3.0</td>\n",
       "      <td>Passed</td>\n",
       "      <td></td>\n",
       "    </tr>\n",
       "    <tr>\n",
       "      <th>4</th>\n",
       "      <td>runtime_yaml</td>\n",
       "      <td>Check that the file \"runtime.yaml\" exists and is in the top level directory of the artifact directory</td>\n",
       "      <td>Passed</td>\n",
       "      <td></td>\n",
       "    </tr>\n",
       "    <tr>\n",
       "      <th>5</th>\n",
       "      <td>score_load_model</td>\n",
       "      <td>Check that load_model() is defined</td>\n",
       "      <td>Passed</td>\n",
       "      <td></td>\n",
       "    </tr>\n",
       "    <tr>\n",
       "      <th>6</th>\n",
       "      <td>score_predict</td>\n",
       "      <td>Check that predict() is defined</td>\n",
       "      <td>Passed</td>\n",
       "      <td></td>\n",
       "    </tr>\n",
       "    <tr>\n",
       "      <th>7</th>\n",
       "      <td>score_predict_arg</td>\n",
       "      <td>Check that all other arguments in predict() are optional and have default values</td>\n",
       "      <td>Passed</td>\n",
       "      <td></td>\n",
       "    </tr>\n",
       "    <tr>\n",
       "      <th>8</th>\n",
       "      <td>score_predict_data</td>\n",
       "      <td>Check that the only required argument for predict() is named \"data\"</td>\n",
       "      <td>Passed</td>\n",
       "      <td></td>\n",
       "    </tr>\n",
       "    <tr>\n",
       "      <th>9</th>\n",
       "      <td>score_py</td>\n",
       "      <td>Check that the file \"score.py\" exists and is in the top level directory of the artifact directory</td>\n",
       "      <td>Passed</td>\n",
       "      <td></td>\n",
       "    </tr>\n",
       "    <tr>\n",
       "      <th>10</th>\n",
       "      <td>score_syntax</td>\n",
       "      <td>Check for Python syntax errors</td>\n",
       "      <td>Passed</td>\n",
       "      <td></td>\n",
       "    </tr>\n",
       "  </tbody>\n",
       "</table>\n",
       "</div>"
      ],
      "text/plain": [
       "              Test key  \\\n",
       "0     runtime_env_path   \n",
       "1   runtime_env_python   \n",
       "2   runtime_path_exist   \n",
       "3      runtime_version   \n",
       "4         runtime_yaml   \n",
       "5     score_load_model   \n",
       "6        score_predict   \n",
       "7    score_predict_arg   \n",
       "8   score_predict_data   \n",
       "9             score_py   \n",
       "10        score_syntax   \n",
       "\n",
       "                                                                                                Test name  \\\n",
       "0                                             Check that field MODEL_DEPLOYMENT.INFERENCE_ENV_PATH is set   \n",
       "1           Check that field MODEL_DEPLOYMENT.INFERENCE_PYTHON_VERSION is set to a value of 3.6 or higher   \n",
       "2                             Check that the file path in MODEL_DEPLOYMENT.INFERENCE_ENV_PATH is correct.   \n",
       "3                                                   Check that field MODEL_ARTIFACT_VERSION is set to 3.0   \n",
       "4   Check that the file \"runtime.yaml\" exists and is in the top level directory of the artifact directory   \n",
       "5                                                                      Check that load_model() is defined   \n",
       "6                                                                         Check that predict() is defined   \n",
       "7                        Check that all other arguments in predict() are optional and have default values   \n",
       "8                                     Check that the only required argument for predict() is named \"data\"   \n",
       "9       Check that the file \"score.py\" exists and is in the top level directory of the artifact directory   \n",
       "10                                                                         Check for Python syntax errors   \n",
       "\n",
       "    Result Message  \n",
       "0   Passed          \n",
       "1   Passed          \n",
       "2   Passed          \n",
       "3   Passed          \n",
       "4   Passed          \n",
       "5   Passed          \n",
       "6   Passed          \n",
       "7   Passed          \n",
       "8   Passed          \n",
       "9   Passed          \n",
       "10  Passed          "
      ]
     },
     "execution_count": 39,
     "metadata": {},
     "output_type": "execute_result"
    }
   ],
   "source": [
    "svd_model.introspect()"
   ]
  },
  {
   "cell_type": "code",
   "execution_count": 33,
   "metadata": {},
   "outputs": [],
   "source": [
    "#svd_model.verify(trainset_final, auto_serialize_data=True)"
   ]
  },
  {
   "cell_type": "markdown",
   "metadata": {},
   "source": [
    "## Salvando o Modelo no Catálogo de Modelos"
   ]
  },
  {
   "cell_type": "code",
   "execution_count": 41,
   "metadata": {},
   "outputs": [
    {
     "name": "stdout",
     "output_type": "stream",
     "text": [
      "Start loading model.pkl from model directory /home/datascience/artefato_modelo ...\n",
      "Model is successfully loaded.\n",
      "['model.pkl', 'test_json_output.json', 'score.py', 'output_schema.json', 'input_schema.json', 'runtime.yaml', '.model-ignore']\n"
     ]
    },
    {
     "data": {
      "application/vnd.jupyter.widget-view+json": {
       "model_id": "",
       "version_major": 2,
       "version_minor": 0
      },
      "text/plain": [
       "loop1:   0%|          | 0/4 [00:00<?, ?it/s]"
      ]
     },
     "metadata": {},
     "output_type": "display_data"
    }
   ],
   "source": [
    "model_id = svd_model.save(display_name=\"Product_Suggestion_Model\")"
   ]
  },
  {
   "cell_type": "markdown",
   "metadata": {},
   "source": [
    "## Criando Grupo de Log e Logs para Acesso e Predição para Monitoramento do Modelo"
   ]
  },
  {
   "cell_type": "code",
   "execution_count": null,
   "metadata": {},
   "outputs": [],
   "source": [
    "log_group_name = \"ModelDeployment-Product-Suggestion\"\n",
    "access_log_name = \"Access_Log\"\n",
    "predict_log_name = \"Predict_Log\"\n",
    "\n",
    "log_group = OCILogGroup(display_name=log_group_name).create()\n",
    "log_group_ocid = log_group.id\n",
    "print(f\"Log group OCID: {log_group_ocid}\")\n",
    "\n",
    "access_log = log_group.create_log(access_log_name)\n",
    "access_log_ocid = access_log.id\n",
    "print(f\"Access log OCID: {access_log_ocid}\")\n",
    "\n",
    "# Create a predict log in the log group\n",
    "predict_log = log_group.create_log(predict_log_name)\n",
    "predict_log_ocid = predict_log.id\n",
    "print(f\"Predict log OCID: {predict_log_ocid}\")\n",
    "\n",
    "logs_configuration_details_object = CategoryLogDetails(access=LogDetails(log_group_id=log_group_ocid,\n",
    "                                                                         log_id=access_log_ocid),\n",
    "                                                       predict=LogDetails(log_group_id=log_group_ocid,\n",
    "                                                                          log_id=predict_log_ocid))"
   ]
  },
  {
   "cell_type": "code",
   "execution_count": null,
   "metadata": {},
   "outputs": [],
   "source": [
    "svd_model.deploy(deployment_log_group_id = log_group_ocid,\n",
    "                 deployment_access_log_id = access_log_ocid,\n",
    "                 deployment_predict_log_id = predict_log_ocid)"
   ]
  },
  {
   "cell_type": "markdown",
   "metadata": {},
   "source": [
    "## Gerando Recomendações de Livros para Usuários Conforme Melhores Avaliações Preditas"
   ]
  },
  {
   "cell_type": "code",
   "execution_count": 9,
   "metadata": {},
   "outputs": [],
   "source": [
    "def get_book_id(book_title, metadata):\n",
    "    \n",
    "    existing_titles = list(metadata['title'].values)\n",
    "    closest_titles = difflib.get_close_matches(book_title, existing_titles)\n",
    "    book_id = metadata[metadata['title'] == closest_titles[0]]['id'].values[0]\n",
    "    return book_id\n",
    "\n",
    "def get_book_info(book_id, metadata):\n",
    "    \n",
    "    book_info = metadata[metadata['id'] == book_id][['id', 'isbn', \n",
    "                                                    'authors', 'title', 'original_title']]\n",
    "    return book_info.to_dict(orient='records')\n",
    "\n",
    "def predict_review(user_id, book_title, model, metadata):\n",
    "    \n",
    "    book_id = get_book_id(book_title, metadata)\n",
    "    review_prediction = model.predict(uid=user_id, iid=book_id)\n",
    "    return review_prediction.est\n",
    "\n",
    "def generate_recommendation(user_id, model, metadata, thresh=4):\n",
    "    \n",
    "    book_titles = list(metadata['title'].values)\n",
    "    random.shuffle(book_titles)\n",
    "    \n",
    "    for book_title in book_titles:\n",
    "        rating = predict_review(user_id, book_title, model, metadata)\n",
    "        if rating >= thresh:\n",
    "            book_id = get_book_id(book_title, metadata)\n",
    "            return get_book_info(book_id, metadata)\n"
   ]
  },
  {
   "cell_type": "code",
   "execution_count": 10,
   "metadata": {},
   "outputs": [
    {
     "data": {
      "text/plain": [
       "[{'id': 7029,\n",
       "  'isbn': '763655988',\n",
       "  'authors': 'Jon Klassen',\n",
       "  'title': 'I Want My Hat Back',\n",
       "  'original_title': 'I Want My Hat Back'}]"
      ]
     },
     "execution_count": 10,
     "metadata": {},
     "output_type": "execute_result"
    }
   ],
   "source": [
    "generate_recommendation(233, svd, books_metadata)"
   ]
  }
 ],
 "metadata": {
  "kernelspec": {
   "display_name": "Python [conda env:generalml_p38_cpu_v1]",
   "language": "python",
   "name": "conda-env-generalml_p38_cpu_v1-py"
  },
  "language_info": {
   "codemirror_mode": {
    "name": "ipython",
    "version": 3
   },
   "file_extension": ".py",
   "mimetype": "text/x-python",
   "name": "python",
   "nbconvert_exporter": "python",
   "pygments_lexer": "ipython3",
   "version": "3.8.13"
  }
 },
 "nbformat": 4,
 "nbformat_minor": 4
}
